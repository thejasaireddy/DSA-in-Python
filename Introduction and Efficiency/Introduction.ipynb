{
 "cells": [
  {
   "cell_type": "code",
   "execution_count": 4,
   "metadata": {},
   "outputs": [
    {
     "name": "stdout",
     "output_type": "stream",
     "text": [
      "0\n",
      "2\n",
      "11\n",
      "15\n"
     ]
    }
   ],
   "source": [
    "\"\"\"You can use this class to represent how classy someone\n",
    "or something is.\n",
    "\"Classy\" is interchangable with \"fancy\".\n",
    "If you add fancy-looking items, you will increase\n",
    "your \"classiness\".\n",
    "Create a function in \"Classy\" that takes a string as\n",
    "input and adds it to the \"items\" list.\n",
    "Another method should calculate the \"classiness\"\n",
    "value based on the items.\n",
    "The following items have classiness points associated\n",
    "with them:\n",
    "\"tophat\" = 2\n",
    "\"bowtie\" = 4\n",
    "\"monocle\" = 5\n",
    "Everything else has 0 points.\n",
    "Use the test cases below to guide you!\"\"\"\n",
    "\n",
    "class Classy():\n",
    "\n",
    "    items_dict = {\"tophat\" : 2, \"bowtie\" : 4, \"monocle\" : 5}\n",
    "    def __init__(self):\n",
    "        self.items = []\n",
    "    def getClassiness(self):\n",
    "        classiness = 0\n",
    "        for item in self.items:\n",
    "            classiness += Classy.items_dict.get(item, 0)\n",
    "        return classiness\n",
    "    def addItem(self, item_name):\n",
    "        self.items.append(item_name)\n",
    "# Test cases\n",
    "me = Classy()\n",
    "\n",
    "# Should be 0\n",
    "print(me.getClassiness())\n",
    "\n",
    "me.addItem(\"tophat\")\n",
    "# Should be 2\n",
    "print(me.getClassiness())\n",
    "\n",
    "me.addItem(\"bowtie\")\n",
    "me.addItem(\"jacket\")\n",
    "me.addItem(\"monocle\")\n",
    "# Should be 11\n",
    "print(me.getClassiness())\n",
    "\n",
    "me.addItem(\"bowtie\")\n",
    "# Should be 15\n",
    "print(me.getClassiness())"
   ]
  },
  {
   "cell_type": "code",
   "execution_count": 5,
   "metadata": {},
   "outputs": [
    {
     "name": "stdout",
     "output_type": "stream",
     "text": [
      "I am super excited for this course! I am super excited for this course! I am super excited for this course! I am super excited for this course! I am super excited for this course!\n"
     ]
    }
   ],
   "source": [
    "# Write a function called \"show_excitement\" where the string\n",
    "# \"I am super excited for this course!\" is returned exactly\n",
    "# 5 times, where each sentence is separated by a single space.\n",
    "# Return the string with \"return\".\n",
    "# You can only have the string once in your code.\n",
    "# Don't just copy/paste it 5 times into a single variable!\n",
    "\n",
    "\n",
    "def show_excitement():\n",
    "    # Your code goes here!\n",
    "    msg = \"I am super excited for this course!\"\n",
    "    return \" \".join([msg]*5)\n",
    "\n",
    "print(show_excitement())"
   ]
  }
 ],
 "metadata": {
  "kernelspec": {
   "display_name": "Python 3",
   "language": "python",
   "name": "python3"
  },
  "language_info": {
   "codemirror_mode": {
    "name": "ipython",
    "version": 3
   },
   "file_extension": ".py",
   "mimetype": "text/x-python",
   "name": "python",
   "nbconvert_exporter": "python",
   "pygments_lexer": "ipython3",
   "version": "3.11.3"
  },
  "orig_nbformat": 4
 },
 "nbformat": 4,
 "nbformat_minor": 2
}
